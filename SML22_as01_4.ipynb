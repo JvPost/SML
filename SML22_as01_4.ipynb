{
 "cells": [
  {
   "cell_type": "markdown",
   "metadata": {},
   "source": [
    "__Before you turn the assignment in, make sure everything runs as expected__. First, *restart the kernel* (in the menubar, select Kernel$\\rightarrow$Restart) and then *run all cells* (in the menubar, select Cell$\\rightarrow$Run All). __Use the__ `Validate` __button in the Assignments tab before submitting__ to make sure that your assignment was filled in properly.\n",
    "\n",
    "__Make sure you fill in any place that says__ `YOUR CODE HERE` or \"YOUR ANSWER HERE\". __Only one team member should upload the solutions.__"
   ]
  },
  {
   "cell_type": "markdown",
   "metadata": {},
   "source": [
    "__Please fill in your names and S/U-numbers here:__\n",
    "* Student 1 name, S/U-number: Marco Post, s1046670\n",
    "* Student 2 name, S/U-number: Ernst Hamer, s1045747"
   ]
  },
  {
   "cell_type": "markdown",
   "metadata": {},
   "source": [
    "---"
   ]
  },
  {
   "cell_type": "markdown",
   "metadata": {
    "deletable": false,
    "editable": false,
    "nbgrader": {
     "cell_type": "markdown",
     "checksum": "16ad9adc902f3a2bee688a1e2d86ee28",
     "grade": false,
     "grade_id": "cell-4a3707609a8bbfee",
     "locked": true,
     "schema_version": 3,
     "solution": false,
     "task": false
    }
   },
   "source": [
    "# Statistical Machine Learning 2022\n",
    "# Assignment 1\n",
    "# Deadline: 6 October 2022\n",
    "## Instructions\n",
    "* You can __work in groups__ (= max 3 people). __Write the full name and S/U-number of all team members in the header above.__\n",
    "* __Make sure you fill in any place that says__ `YOUR CODE HERE` or \"YOUR ANSWER HERE\" __including comments, derivations, explanations, graphs, etc.__ This means that the elements and/or intermediate steps required to derive the answer have to be in the report. (Answers like 'No' or 'x=27.2' by themselves are not sufficient, even when they are the result of running your code.) If an exercise requires coding, explain briefly what the code does (in comments). All figures should have titles (descriptions), axis labels, and legends (if applicable).\n",
    "* Please do not add new cells to the notebook, try to write the answers only in the provided cells. __Before you turn the assignment in, make sure everything runs as expected__. First, *restart the kernel* (in the menubar, select Kernel$\\rightarrow$Restart) and then *run all cells* (in the menubar, select Cell$\\rightarrow$Run All). __Use the__ `Validate` __button in the Assignments tab before submitting__ to make sure that your assignment was filled in properly.\n",
    "* The assignment includes certain cells that contain tests. Most of the tests are marked as *hidden* and are used for automatic grading. NB: These hidden tests do not provide any feedback! There are also a couple of tests / checks that are visible, which are meant to help you avoid basic coding errors.\n",
    "* __For those working in groups, only one team member needs to upload the solutions__. This can be done under the Assignments tab, where you fetched the assignments, and where you can also validate your submissions. Please do not change the filenames of the individual Jupyter notebooks.\n",
    "* For any problems or questions regarding the assignments, write on Discord or send an email to G.Bucur@cs.ru.nl .\n",
    "\n",
    "## Introduction\n",
    "Assignment 1 consists of:\n",
    "1. Polynomial curve fitting (50 points);\n",
    "2. Gradient descent (25 points);\n",
    "3. Fruit boxes (25 points);\n",
    "4. __Probability factorization (BONUS 10 points);__\n",
    "\n",
    "## Libraries\n",
    "\n",
    "First, we import the basic libraries necessary to develop this assignment. Of course you are free to import further libraries, if required, in the allotted cells. **Please avoid installing new packages, unless really necessary. Keep in mind that they will be installed in your \"home-directory\" folder, which has limited diskspace available.**"
   ]
  },
  {
   "cell_type": "code",
   "execution_count": 1,
   "metadata": {
    "deletable": false,
    "editable": false,
    "nbgrader": {
     "cell_type": "code",
     "checksum": "d0bbce81100157570e2530b5ac3d1fbd",
     "grade": false,
     "grade_id": "cell-3b986e21540420a2",
     "locked": true,
     "schema_version": 3,
     "solution": false,
     "task": false
    }
   },
   "outputs": [],
   "source": [
    "import IPython\n",
    "assert IPython.version_info[0] >= 3, \"Your version of IPython is too old, please update it to at least version 3.\"\n",
    "\n",
    "# Necessary imports (for solutions)\n",
    "import math\n",
    "import numpy as np\n",
    "import matplotlib.pyplot as plt\n",
    "from collections import namedtuple\n",
    "\n",
    "# Set fixed random seed for reproducibility\n",
    "np.random.seed(2022)"
   ]
  },
  {
   "cell_type": "markdown",
   "metadata": {
    "deletable": false,
    "editable": false,
    "nbgrader": {
     "cell_type": "markdown",
     "checksum": "bfe0c1df123b4a01e8c8c1bf60556c55",
     "grade": false,
     "grade_id": "cell-e251ab231093efee",
     "locked": true,
     "schema_version": 3,
     "solution": false,
     "task": false
    }
   },
   "source": [
    "## Probability factorization (BONUS, weight 10)\n",
    "Given a joint probability density function over the random vector $\\mathbf{X} = (X_1, X_2, X_3, X_4)$ that factorizes as\n",
    "$$p(x_1, x_2, x_3, x_4) = p(x_1, x_4 | x_2) p(x_2, x_3 | x_1),$$\n",
    "show (using the sum and product rules for marginals and conditionals) that the following independence statements hold, in which the symbol $\\bot$ stands for (conditional) independence:\n",
    "1. $ X_1 \\bot X_2;$\n",
    "2. $ X_3 \\bot X_4 \\,|\\, X_1, X_2.$\n",
    "\n"
   ]
  },
  {
   "cell_type": "markdown",
   "metadata": {
    "deletable": false,
    "nbgrader": {
     "cell_type": "markdown",
     "checksum": "46120fe614caf68d61f9324210084709",
     "grade": true,
     "grade_id": "cell-fea97ebe52a73eb3",
     "locked": false,
     "points": 10,
     "schema_version": 3,
     "solution": true,
     "task": false
    }
   },
   "source": [
    "1. $ X_1 \\bot X_2;$\n",
    "\n",
    "$$\n",
    "p(x_1, x_2, x_3, x_4) = p(x_1, x_4 | x_2) p(x_2, x_3 | x_1)\n",
    "$$\n",
    "then  \n",
    "$$\n",
    "p(x_1, x_2) = \\sum_{x_3}\\sum_{x_4} p(x_1, x_4 | x_2) p(x_2, x_3 | x_1) \\\\\n",
    "$$\n",
    "apply sum rule: $x_3$ and  $x_4$ are marginalized out which gives\n",
    "$$\n",
    "p(x_1, x_2) = p(x_1 | x_2) p(x_2| x_1) \\\\\n",
    "$$\n",
    "apply product rule: replace $p(x_1, x_2)$ with $p(x_1 | x_2)p(x_2)$ and $p(x_2 | x_1)p(x_1)$ which gives\n",
    "$$\n",
    "p(x_1 | x_2) p(x_2| x_1) = p(x_1 | x_2)p(x_2) \\\\\n",
    "p(x_2| x_1) = p(x_2)\n",
    "$$\n",
    "and \n",
    "\n",
    "$$\n",
    "p(x_1 | x_2) p(x_2| x_1) = (x_2 | x_1)p(x_1) \\\\\n",
    "p(x_1 | x_2)  =  p(x_1)\n",
    "$$\n",
    "\n",
    "the rule of marginal independence applies: $P(X|Y) = P(X)$, and we have $p(x_2| x_1) = p(x_2)$, so this rule applies, i.e. $x_1 \\bot x_2$\n",
    "\n",
    "2. $ X_3 \\bot X_4 \\,|\\, X_1, X_2.$\n",
    "\n",
    "I can't figure this one out, I don't think the rules from Bishop are enough to figure this one out..."
   ]
  }
 ],
 "metadata": {
  "kernelspec": {
   "display_name": "Python 3.10.4 ('RL')",
   "language": "python",
   "name": "python3"
  },
  "language_info": {
   "codemirror_mode": {
    "name": "ipython",
    "version": 3
   },
   "file_extension": ".py",
   "mimetype": "text/x-python",
   "name": "python",
   "nbconvert_exporter": "python",
   "pygments_lexer": "ipython3",
   "version": "3.10.4"
  },
  "vscode": {
   "interpreter": {
    "hash": "01a2e7863e5236c09bd659d7f3e8936ccc98bbadd71106bce1e236250ba387f5"
   }
  }
 },
 "nbformat": 4,
 "nbformat_minor": 4
}

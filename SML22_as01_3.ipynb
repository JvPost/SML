{
  "cells": [
    {
      "cell_type": "markdown",
      "metadata": {
        "id": "Poux1S3PBoh-"
      },
      "source": [
        "__Before you turn the assignment in, make sure everything runs as expected__. First, *restart the kernel* (in the menubar, select Kernel$\\rightarrow$Restart) and then *run all cells* (in the menubar, select Cell$\\rightarrow$Run All). __Use the__ `Validate` __button in the Assignments tab before submitting__ to make sure that your assignment was filled in properly.\n",
        "\n",
        "__Make sure you fill in any place that says__ `YOUR CODE HERE` or \"YOUR ANSWER HERE\". __Only one team member should upload the solutions.__"
      ]
    },
    {
      "cell_type": "markdown",
      "metadata": {
        "id": "GA0zisf1BoiA"
      },
      "source": [
        "__Please fill in your names and S/U-numbers here:__\n",
        "* Student 1 name, S/U-number: Marco Post, s1046670\n",
        "* Student 2 name, S/U-number: Ernst Hamer, s1045747"
      ]
    },
    {
      "cell_type": "markdown",
      "metadata": {
        "id": "Vm9QSFADBoiB"
      },
      "source": [
        "---"
      ]
    },
    {
      "cell_type": "markdown",
      "metadata": {
        "deletable": false,
        "editable": false,
        "id": "16X4q7cOBoiC",
        "nbgrader": {
          "cell_type": "markdown",
          "checksum": "6a17c2cb24f65080eb7ab6fee82a5fdd",
          "grade": false,
          "grade_id": "cell-4a3707609a8bbfee",
          "locked": true,
          "schema_version": 3,
          "solution": false,
          "task": false
        }
      },
      "source": [
        "# Statistical Machine Learning 2022\n",
        "# Assignment 1\n",
        "# Deadline: 6 October 2022\n",
        "## Instructions\n",
        "* You can __work in groups__ (= max 3 people). __Write the full name and S/U-number of all team members in the header above.__\n",
        "* __Make sure you fill in any place that says__ `YOUR CODE HERE` or \"YOUR ANSWER HERE\" __including comments, derivations, explanations, graphs, etc.__ This means that the elements and/or intermediate steps required to derive the answer have to be in the report. (Answers like 'No' or 'x=27.2' by themselves are not sufficient, even when they are the result of running your code.) If an exercise requires coding, explain briefly what the code does (in comments). All figures should have titles (descriptions), axis labels, and legends (if applicable).\n",
        "* Please do not add new cells to the notebook, try to write the answers only in the provided cells. __Before you turn the assignment in, make sure everything runs as expected__. First, *restart the kernel* (in the menubar, select Kernel$\\rightarrow$Restart) and then *run all cells* (in the menubar, select Cell$\\rightarrow$Run All). __Use the__ `Validate` __button in the Assignments tab before submitting__ to make sure that your assignment was filled in properly.\n",
        "* The assignment includes certain cells that contain tests. Most of the tests are marked as *hidden* and are used for automatic grading. NB: These hidden tests do not provide any feedback! There are also a couple of tests / checks that are visible, which are meant to help you avoid basic coding errors.\n",
        "* __For those working in groups, only one team member needs to upload the solutions__. This can be done under the Assignments tab, where you fetched the assignments, and where you can also validate your submissions. Please do not change the filenames of the individual Jupyter notebooks.\n",
        "* For any problems or questions regarding the assignments, write on Discord or send an email to G.Bucur@cs.ru.nl .\n",
        "\n",
        "## Introduction\n",
        "Assignment 1 consists of:\n",
        "1. Polynomial curve fitting (50 points);\n",
        "2. Gradient descent (25 points);\n",
        "3. __Fruit boxes (25 points);__\n",
        "4. Probability factorization (BONUS 10 points);\n",
        "\n",
        "## Libraries\n",
        "\n",
        "First, we import the basic libraries necessary to develop this assignment. Of course you are free to import further libraries, if required, in the allotted cells. **Please avoid installing new packages, unless really necessary. Keep in mind that they will be installed in your \"home-directory\" folder, which has limited diskspace available.**"
      ]
    },
    {
      "cell_type": "code",
      "execution_count": null,
      "metadata": {
        "deletable": false,
        "editable": false,
        "id": "-vzcG-A4BoiD",
        "nbgrader": {
          "cell_type": "code",
          "checksum": "d0bbce81100157570e2530b5ac3d1fbd",
          "grade": false,
          "grade_id": "cell-3b986e21540420a2",
          "locked": true,
          "schema_version": 3,
          "solution": false,
          "task": false
        }
      },
      "outputs": [],
      "source": [
        "import IPython\n",
        "assert IPython.version_info[0] >= 3, \"Your version of IPython is too old, please update it to at least version 3.\"\n",
        "\n",
        "# Necessary imports (for solutions)\n",
        "import math\n",
        "import numpy as np\n",
        "import matplotlib.pyplot as plt\n",
        "from collections import namedtuple\n",
        "\n",
        "# Set fixed random seed for reproducibility\n",
        "np.random.seed(2022)"
      ]
    },
    {
      "cell_type": "markdown",
      "metadata": {
        "deletable": false,
        "editable": false,
        "id": "GxiD15jEBoiL",
        "nbgrader": {
          "cell_type": "markdown",
          "checksum": "0418fbc30d3f50d686601ff197d27525",
          "grade": false,
          "grade_id": "cell-2a1aae0a18484d04",
          "locked": true,
          "schema_version": 3,
          "solution": false,
          "task": false
        }
      },
      "source": [
        "## Fruit boxes (weight 25)\n",
        "Suppose we have two healthy but curiously mixed boxes of fruit, with one box containing 8 apples and 4 grapefruit and the other containing 15 apples and 3 grapefruit. One of the boxes is selected at random and a piece of fruit is picked (but not eaten) from the chosen box, with equal probability for each item in the box. The piece of fruit is returned and then once again from the *same* box a second piece is chosen at random. This is known as sampling with replacement. Model the chosen box with the random variable $B$, the first piece of fruit with the variable $F_1$, and the second piece with $F_2$.\n",
        "### Exercise 3.1\n",
        "What is the probability that the first piece of fruit is an apple given that the second piece of fruit was a grapefruit? How can the result of the second pick affect the probability of the first pick?"
      ]
    },
    {
      "cell_type": "markdown",
      "metadata": {
        "deletable": false,
        "id": "y6c45VuqBoiL",
        "nbgrader": {
          "cell_type": "markdown",
          "checksum": "71cf34c527a273159e90247f2f299b9c",
          "grade": true,
          "grade_id": "cell-20711d5530b05594",
          "locked": false,
          "points": 7,
          "schema_version": 3,
          "solution": true,
          "task": false
        }
      },
      "source": [
        "The result of the second pick can affect the probability of the first pick in the way that the two possible ways that the second fruit is a grapefruit and the first fruit is an apple can be summed. \n",
        "$$\n",
        "\\begin{align}\n",
        "P(F_2 = G, B = 1) + P(F_2 = G, B = 2) &= P(F_2 = G | B = 1)P(B = 1) + P(F_2 = G | B = 2)P(B = 2) \\\\\n",
        "&= \\left ( \\frac{8}{12} \\times\\frac{4}{12} + \\frac{4}{12} \\times\\frac{4}{12} \\right ) \\times \\frac{1}{2} + \\left ( \\frac{15}{18} \\times\\frac{3}{18} + \\frac{3}{18} \\times\\frac{3}{18} \\right )\\times \\frac{1}{2} \\\\\n",
        "&= \\frac{1}{4} \\\\\\\\\n",
        "P(F_1 = A, F_2 = G) &= P(F_1 = A, F_2 = G, B = 1) + P(F_1 = A, F_2 = G, B = 2)\\\\\n",
        "&= P(F_1 = A, F_2 = G | B = 1)P(B = 1) + P(F_1 = A, F_2 = G | B = 2)P(B = 2) \\\\\n",
        "&= \\frac{4}{12} \\times \\frac{8}{12} \\times \\frac{1}{2} + \\frac{3}{18} \\times \\frac{15}{18} \\times \\frac{1}{2} = \\frac{13}{72}\\\\\\\\\n",
        "P(F_1 = A | F_2 = G) &= \\frac{P(F_1 = A, F_2 = G)}{P(F_2 = G)} = \\frac{13}{18}\\\\\n",
        "\\end{align}\n",
        "$$"
      ]
    },
    {
      "cell_type": "markdown",
      "metadata": {
        "deletable": false,
        "editable": false,
        "id": "PS8XslmVBoiM",
        "nbgrader": {
          "cell_type": "markdown",
          "checksum": "f5081815b1cf92b2880cd47adb5e6cf7",
          "grade": false,
          "grade_id": "cell-49dfe477cdad0ff8",
          "locked": true,
          "schema_version": 3,
          "solution": false,
          "task": false
        }
      },
      "source": [
        "Please add the final result you got in the cell below! (Add it as a fraction, not an estimate. For example, write __1/3__, do not round to a number of decimals.)"
      ]
    },
    {
      "cell_type": "code",
      "execution_count": 1,
      "metadata": {
        "deletable": false,
        "id": "slBIyAbkBoiN",
        "nbgrader": {
          "cell_type": "code",
          "checksum": "3a502307711645f0453e6444b8f50156",
          "grade": false,
          "grade_id": "cell-6d4096e0b9231c28",
          "locked": false,
          "schema_version": 3,
          "solution": true,
          "task": false
        }
      },
      "outputs": [],
      "source": [
        "\"\"\"\n",
        "The variable p is probability of the first piece of fruit being\n",
        "an apple given that the second piece of fruit was a grapefruit.\n",
        "\"\"\"\n",
        "# YOUR CODE HERE\n",
        "p = 13/18"
      ]
    },
    {
      "cell_type": "code",
      "execution_count": null,
      "metadata": {
        "deletable": false,
        "editable": false,
        "id": "SXDPQNiMBoiO",
        "nbgrader": {
          "cell_type": "code",
          "checksum": "f2883d640be1793610b60635ef1a0abe",
          "grade": true,
          "grade_id": "cell-13f94c0b98af50e6",
          "locked": true,
          "points": 2,
          "schema_version": 3,
          "solution": false,
          "task": false
        }
      },
      "outputs": [],
      "source": [
        "\"\"\"\n",
        "Hidden check for value of variable p.\n",
        "\"\"\""
      ]
    },
    {
      "cell_type": "markdown",
      "metadata": {
        "deletable": false,
        "editable": false,
        "id": "JvN-wRYVBoiP",
        "nbgrader": {
          "cell_type": "markdown",
          "checksum": "daefb7a66bbaabf1623c232bbcd2e1cd",
          "grade": false,
          "grade_id": "cell-533f0ed93282cea2",
          "locked": true,
          "schema_version": 3,
          "solution": false,
          "task": false
        }
      },
      "source": [
        "### Exercise 3.2\n",
        "Imagine now that after we remove a piece of fruit, it is not returned to the box. This is known as sampling without replacement. In this situation, recompute the probability that the first piece of fruit is an apple given that the second piece of fruit was a grapefruit. Explain the difference."
      ]
    },
    {
      "cell_type": "markdown",
      "metadata": {
        "deletable": false,
        "id": "86TXZwaBBoiQ",
        "nbgrader": {
          "cell_type": "markdown",
          "checksum": "8ba120562b08539a73ed3ad059a2e52b",
          "grade": true,
          "grade_id": "cell-c5cabea66205f678",
          "locked": false,
          "points": 7,
          "schema_version": 3,
          "solution": true,
          "task": false
        }
      },
      "source": [
        "The difference between this situation and the situation above is the sampling without replacement, which gives a higher chance because there are less apples to be chosen in the second pick.\n",
        "\n",
        "\n",
        "\\begin{align}\n",
        "P(F_2 = G) \\\\\\\\\n",
        "P(F_2 = G, B = 1) + P(F_2 = G, B = 2) &= P(F_2 = G | B = 1)P(B = 1) + P(F_2 = G | B = 2)P(B = 2) \\\\\\\\\n",
        "&= \\left ( \\frac{8}{12} \\times\\frac{4}{11} + \\frac{4}{12} \\times\\frac{3}{11} \\right ) \\times \\frac{1}{2} + \\left ( \\frac{15}{18} \\times\\frac{3}{17} + \\frac{3}{18} \\times\\frac{2}{17} \\right )\\times \\frac{1}{2} = \\frac{1}{4}\\\\\\\\\n",
        "P(F_1 = A, F_2 = G) &= P(F_1 = A, F_2 = G, B = 1) + P(F_1 = A, F_2 = G, B = 2)\\\\\\\\\n",
        "&= P(F_1 = A, F_2 = G | B = 1)P(B = 1) + P(F_1 = A, F_2 = G | B = 2)P(B = 2) \\\\\\\\\n",
        "&= \\frac{4}{11} \\times \\frac{8}{12} \\times \\frac{1}{2} + \\frac{3}{17} \\times \\frac{15}{18} \\times \\frac{1}{2} = \\frac{437}{2244}\\\\\\\\\n",
        "P(F_1 = A | F_2 = G) &= \\frac{P(F_1 = A, F_2 = G)}{P(F_2 = G)} = \\frac{437}{561}\\\\\n",
        "\\end{align}"
      ]
    },
    {
      "cell_type": "markdown",
      "metadata": {
        "deletable": false,
        "editable": false,
        "id": "hCRMe5P2BoiR",
        "nbgrader": {
          "cell_type": "markdown",
          "checksum": "2089da2a56d8f63cca56888c8cf0d3cf",
          "grade": false,
          "grade_id": "cell-b2aab5343b969c8a",
          "locked": true,
          "schema_version": 3,
          "solution": false,
          "task": false
        }
      },
      "source": [
        "Please add the final result you got in the cell below! (Add it as a fraction, not an estimate. For example, write __1/3__, do not round to a number of decimals.)"
      ]
    },
    {
      "cell_type": "code",
      "execution_count": null,
      "metadata": {
        "deletable": false,
        "id": "uog4V5QOBoiR",
        "nbgrader": {
          "cell_type": "code",
          "checksum": "16f923200f4fc392ae85903599942470",
          "grade": false,
          "grade_id": "cell-bbf669c7d7e989eb",
          "locked": false,
          "schema_version": 3,
          "solution": true,
          "task": false
        }
      },
      "outputs": [],
      "source": [
        "\"\"\"\n",
        "The variable p is probability of the first piece of fruit being\n",
        "an apple given that the second piece of fruit was a grapefruit\n",
        "when the sampling was done without replacement.\n",
        "\"\"\"\n",
        "p = 437/561"
      ]
    },
    {
      "cell_type": "code",
      "execution_count": null,
      "metadata": {
        "deletable": false,
        "editable": false,
        "id": "RvMTWarJBoiS",
        "nbgrader": {
          "cell_type": "code",
          "checksum": "b5d7e45759c1ed1210325247c63fe190",
          "grade": true,
          "grade_id": "cell-1aa31b8a1047f19a",
          "locked": true,
          "points": 2,
          "schema_version": 3,
          "solution": false,
          "task": false
        }
      },
      "outputs": [],
      "source": [
        "\"\"\"\n",
        "Hidden check for value of variable p.\n",
        "\"\"\""
      ]
    },
    {
      "cell_type": "markdown",
      "metadata": {
        "deletable": false,
        "editable": false,
        "id": "7pUCTGD7BoiS",
        "nbgrader": {
          "cell_type": "markdown",
          "checksum": "f782f9a85dc09a176d4c28c2aac32fdc",
          "grade": false,
          "grade_id": "cell-5e32edcbb1f96df8",
          "locked": true,
          "schema_version": 3,
          "solution": false,
          "task": false
        }
      },
      "source": [
        "### Exercise 3.3\n",
        "Starting from the initial situation (i.e., sampling with replacement), we add a dozen oranges to the first box and repeat the experiment. Show that now the outcome of the first pick has no impact on the probability that the second pick is a grapefruit. Are the two picks now dependent or independent? Explain your answer."
      ]
    },
    {
      "cell_type": "markdown",
      "metadata": {
        "deletable": false,
        "id": "K5PNRBhZBoiT",
        "nbgrader": {
          "cell_type": "markdown",
          "checksum": "0c6f39d751ee3ae29422a2ef852f9462",
          "grade": true,
          "grade_id": "cell-03574d2eb9eadf55",
          "locked": false,
          "points": 7,
          "schema_version": 3,
          "solution": true,
          "task": false
        }
      },
      "source": [
        "\n",
        "\n",
        "**second pick is a grapfruit:**\n",
        "$$\n",
        "\\begin{align}\n",
        "P(F_2 = G) &= P(F_2 = G, B = 1) + P(F_2 = G, B = 2)\\\\\\\\\n",
        "&= P(F_2 = G | B = 1)P(B = 1) + P(F_2 = G | B = 2)P(B = 2) \\\\\\\\\n",
        "&= \\frac{4}{24} \\times \\frac{1}{2} + \\frac{3}{18} \\times \\frac{1}{2} = \\frac{1}{6}\n",
        "\\end{align}\n",
        "$$\n",
        "**second pick a grapfruit given the first is an apple:**\n",
        "$$\n",
        "\\begin{align}\n",
        "P(F_1 = A, F_2 = G) &= P(F_1 = A, F_2 = G, B = 1) + P(F_1 = A, F_2 = G, B = 2)\\\\\\\\\n",
        "&= P(F_1 = A, F_2 = G | B = 1)P(B = 1) + P(F_1 = A, F_2 = G | B = 2)P(B = 2) \\\\\\\\\n",
        "&= \\frac{4}{24} \\times \\frac{8}{24} \\times \\frac{1}{2} + \\frac{3}{18} \\times \\frac{15}{18} \\times \\frac{1}{2} = \\frac{7}{72}\\\\\\\\\n",
        "P(F_1 = A) &= P(F_1 = A, B = 1) + P(F_1 = A, B = 2)\\\\\\\\\n",
        "&= P(F_1 = A | B = 1)P(B = 1) + P(F_1 = A | B = 2)P(B = 2) \\\\\\\\\n",
        "&= \\frac{8}{24} \\times \\frac{1}{2} + \\frac{15}{18} \\times \\frac{1}{2} = \\frac{7}{12}\\\\\\\\\n",
        "P(F_2 = G | F_1 = A) &= \\frac{P(F_1 = A, F_2 = G)}{P(F_1 = A)} = \\frac{1}{6}\n",
        "\\end{align}\n",
        "$$\n",
        "**second pick a grapfruit given the first is a grapefruit:**\n",
        "$$\n",
        "\\begin{align}\n",
        "P(F_1 = G, F_2 = G) &= P(F_1 = G, F_2 = G, B = 1) + P(F_1 = G, F_2 = G, B = 2)\\\\\\\\\n",
        "&= P(F_1 = G, F_2 = G | B = 1)P(B = 1) + P(F_1 = G, F_2 = G | B = 2)P(B = 2) \\\\\\\\\n",
        "&= \\frac{4}{24} \\times \\frac{4}{24} \\times \\frac{1}{2} + \\frac{3}{18} \\times \\frac{3}{18} \\times \\frac{1}{2} = \\frac{1}{36}\\\\\\\\\n",
        "P(F_1 = G) &= P(F_1 = G, B = 1) + P(F_1 = G, B = 2)\\\\\\\\\n",
        "&= P(F_1 = G | B = 1)P(B = 1) + P(F_1 = G | B = 2)P(B = 2) \\\\\\\\\n",
        "&= \\frac{4}{24} \\times \\frac{1}{2} + \\frac{3}{18} \\times \\frac{1}{2} = \\frac{1}{6}\\\\\\\\\n",
        "P(F_2 = G | F_1 = G) &= \\frac{P(F_1 = G, F_2 = G)}{P(F_1 = G)} = \\frac{1}{6}\n",
        "\\end{align}\n",
        "$$\n",
        "**second pick a grapfruit given the first is an orange:**\n",
        "$$\n",
        "\\begin{align}\n",
        "P(F_1 = O, F_2 = G) &= P(F_1 = O, F_2 = G, B = 1) + P(F_1 = O, F_2 = G, B = 2)\\\\\\\\\n",
        "&= P(F_1 = O, F_2 = G | B = 1)P(B = 1) + P(F_1 = O, F_2 = G | B = 2)P(B = 2) \\\\\\\\\n",
        "&= \\frac{12}{24} \\times \\frac{4}{24} \\times \\frac{1}{2} + \\frac{0}{18} \\times \\frac{3}{18} \\times \\frac{1}{2} = \\frac{1}{24}\\\\\\\\\n",
        "P(F_1 = O) &= P(F_1 = O, B = 1) + P(F_1 = O, B = 2)\\\\\\\\\n",
        "&= P(F_1 = O | B = 1)P(B = 1) + P(F_1 = O | B = 2)P(B = 2) \\\\\\\\\n",
        "&= \\frac{12}{24} \\times \\frac{1}{2} + \\frac{0}{18} \\times \\frac{1}{2} = \\frac{1}{4}\\\\\\\\\n",
        "P(F_2 = G | F_1 = O) &= \\frac{P(F_1 = O, F_2 = G)}{P(F_1 = O)} = \\frac{1}{6}\n",
        "\\end{align}\n",
        "$$\n",
        "\n",
        "As shown in the four calculations, the probability that the second fruit is a grapefruit is $\\frac{1}{6}$ no matter what other fruit is picked first. This means that there is no impact on the probability that the second pick is a grapefruit. However, the picks are not independent. The probalities differ for each fruit, but because we sample with replacement the sample values aren't independent."
      ]
    }
  ],
  "metadata": {
    "colab": {
      "collapsed_sections": [],
      "provenance": []
    },
    "kernelspec": {
      "display_name": "Python 3.10.4 ('RL')",
      "language": "python",
      "name": "python3"
    },
    "language_info": {
      "codemirror_mode": {
        "name": "ipython",
        "version": 3
      },
      "file_extension": ".py",
      "mimetype": "text/x-python",
      "name": "python",
      "nbconvert_exporter": "python",
      "pygments_lexer": "ipython3",
      "version": "3.10.4"
    },
    "vscode": {
      "interpreter": {
        "hash": "01a2e7863e5236c09bd659d7f3e8936ccc98bbadd71106bce1e236250ba387f5"
      }
    }
  },
  "nbformat": 4,
  "nbformat_minor": 0
}
